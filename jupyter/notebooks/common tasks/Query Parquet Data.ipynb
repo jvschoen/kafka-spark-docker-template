{
 "cells": [
  {
   "cell_type": "markdown",
   "metadata": {},
   "source": [
    "# Overview"
   ]
  },
  {
   "cell_type": "markdown",
   "metadata": {},
   "source": [
    "The goal of this notebook is to explain a workflow for:\n",
    "1. Setting up a Redshift Cluster for Spectrum\n",
    "2. Using Glue Catalog crawler to define a schema for ETL output\n",
    "3. Linking this catalog to Spectrum to query data _in situ_\n",
    "\n",
    "Step 1 can be omitted if there is already a Spectrum cluster built. You can simply just create the glue catalog and create the external cluster"
   ]
  },
  {
   "cell_type": "markdown",
   "metadata": {},
   "source": [
    "# Create Redhshift Role"
   ]
  },
  {
   "cell_type": "markdown",
   "metadata": {},
   "source": [
    "1. Navigate to [IAM Roles page](https://console.aws.amazon.com/iam/home#/roles)\n",
    "2. Create a new Role with a meaningful name like `<project_name>_spectrum_role`\n",
    "    * This role should have the following policies: \n",
    "        - AmazonS3ReadOnlyAccess\n",
    "        - AWSGlueConsoleFullAccess\n",
    "3. After creating this role, it will be assigned a **Role ARN** (Amazon Resource Name). Make note of this ARN, it will be used later"
   ]
  },
  {
   "cell_type": "markdown",
   "metadata": {},
   "source": [
    "# Create Redshift Cluster"
   ]
  },
  {
   "cell_type": "markdown",
   "metadata": {},
   "source": [
    "1. Navigate to [Redshift Cluster Page](https://console.aws.amazon.com/redshiftv2/home?region=us-east-1#dashboard)\n",
    "2. In upper Right corner, select the region for your cluster\n",
    "3. Click \"Create Cluster\"\n",
    "4. Configure your cluster\n",
    "    * Name\n",
    "    * Node Type. For interactively using Query Editor(_user must have `AmazonRedshiftQueryEditor`, and `AmazonRedshiftReadOnlyAccess` policies active_) select one of the following:\n",
    "        - DC1.8xlarge\n",
    "        - DC2.large\n",
    "        - DC2.8xlarge\n",
    "        - DS2.8xlarge\n",
    "        - RA3.xlplus\n",
    "        - RA3.4xlarge\n",
    "        - RA3.16xlarge  \n",
    "        \n",
    "    * Number of Nodes  \n",
    "5. Configure the Database credentials. Make note of these, you need them to log in to query editor.\n",
    "    * Make a master user name\n",
    "    * Make a user password\n",
    "    "
   ]
  },
  {
   "cell_type": "markdown",
   "metadata": {},
   "source": [
    "# Create Glue Catalog"
   ]
  },
  {
   "cell_type": "markdown",
   "metadata": {},
   "source": [
    "In order to query the data, there must be a defined schema, which can be done using Glue Crawlers.\n",
    "1. Go to [AWS Glue Console](https://console.aws.amazon.com/glue/)\n",
    "2. Create a crawler.\n",
    "    * Create a new database \n",
    "    * Then choose the data store which is the root of where all your desired tables are located in S3.\n",
    "3. Run the Crawler and confirm that the schema looks accurate."
   ]
  },
  {
   "cell_type": "markdown",
   "metadata": {},
   "source": [
    "# Add Glue Database to Spectrum"
   ]
  },
  {
   "cell_type": "markdown",
   "metadata": {},
   "source": [
    "This is added via DDL in the query editor\n",
    "1. Go to your [Query Editor](https://console.aws.amazon.com/redshiftv2/home?region=us-east-1#query-editor:)\n",
    "    * The first time you do this you may have to \n",
    "2. Run the following command to attach the external schema:\n",
    "\n",
    "    ```sql\n",
    "    CREATE EXTERNAL SCHEMA <desired_spectrum_database_name>\n",
    "    FROM data catalog database '<glue_database_name>' \n",
    "        iam_role '<arn_id_from_section_2>'\n",
    "    CREATE EXTERNAL DATABASE IF NOT EXISTS\n",
    "    ```"
   ]
  },
  {
   "cell_type": "markdown",
   "metadata": {},
   "source": [
    "# DONE "
   ]
  },
  {
   "cell_type": "markdown",
   "metadata": {},
   "source": [
    "You can now query the database in Spectrum, if schema changes occur in the parquet data, then you can rerun AWS Glue to recatalog the data and Redshift will stay in sync with this."
   ]
  },
  {
   "cell_type": "markdown",
   "metadata": {},
   "source": [
    "# Resources"
   ]
  },
  {
   "cell_type": "markdown",
   "metadata": {},
   "source": [
    "* https://docs.aws.amazon.com/redshift/latest/gsg/getting-started.html\n",
    "* https://docs.aws.amazon.com/redshift/latest/dg/c-getting-started-using-spectrum.html"
   ]
  },
  {
   "cell_type": "code",
   "execution_count": null,
   "metadata": {},
   "outputs": [],
   "source": []
  }
 ],
 "metadata": {
  "kernelspec": {
   "display_name": "Python 3",
   "language": "python",
   "name": "python3"
  },
  "language_info": {
   "codemirror_mode": {
    "name": "ipython",
    "version": 3
   },
   "file_extension": ".py",
   "mimetype": "text/x-python",
   "name": "python",
   "nbconvert_exporter": "python",
   "pygments_lexer": "ipython3",
   "version": "3.8.6"
  }
 },
 "nbformat": 4,
 "nbformat_minor": 4
}

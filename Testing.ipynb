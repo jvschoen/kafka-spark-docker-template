{
 "cells": [
  {
   "cell_type": "markdown",
   "metadata": {},
   "source": [
    "# Resources"
   ]
  },
  {
   "cell_type": "markdown",
   "metadata": {},
   "source": [
    "https://github.com/BogdanCojocar/medium-articles/blob/master/realtime_kafka/realtime_kafka.ipynb"
   ]
  },
  {
   "cell_type": "code",
   "execution_count": 1,
   "metadata": {},
   "outputs": [],
   "source": [
    "import os\n",
    "os.environ['PYSPARK_SUBMIT_ARGS'] = \"--packages=org.apache.spark:spark-sql-kafka-0-10_2.11:2.4.4 pyspark-shell\""
   ]
  },
  {
   "cell_type": "code",
   "execution_count": 2,
   "metadata": {},
   "outputs": [],
   "source": [
    "import findspark\n",
    "findspark.init()\n",
    "from pyspark.sql import SparkSession\n",
    "from pyspark.sql.types import *\n",
    "from pyspark.sql.functions import *\n",
    "\n",
    "from confluent_kafka import Producer\n",
    "\n",
    "import pandas as pd\n",
    "import uuid\n",
    "import random\n",
    "import json\n",
    "\n",
    "import requests"
   ]
  },
  {
   "cell_type": "code",
   "execution_count": 3,
   "metadata": {},
   "outputs": [],
   "source": [
    "simple_messages = [\n",
    "'I love this pony',\n",
    "'This restaurant is great',\n",
    "'The weather is bad today',\n",
    "'I will go to the beach this weekend',\n",
    "'She likes to swim',\n",
    "'Apple is a great company'\n",
    "]\n",
    "\n",
    "bootstrap_servers = 'kafka:9092'\n",
    "topic = 'test'\n",
    "msg_count = 5"
   ]
  },
  {
   "cell_type": "code",
   "execution_count": 6,
   "metadata": {},
   "outputs": [],
   "source": [
    "def delivery_report(err, msg):    \n",
    "    \"\"\" Called once for each message produced to indicate delivery result.\n",
    "        Triggered by poll() or flush(). \"\"\"\n",
    "    if err is not None:\n",
    "        print('Message delivery failed: {}'.format(err))\n",
    "    else:\n",
    "        print('Message delivered to {}'.format(msg.topic()))\n",
    "\n",
    "def confluent_kafka_producer():\n",
    "    \n",
    "    p = Producer({'bootstrap.servers': bootstrap_servers})\n",
    "    \n",
    "    print('Trying plain localhost connect')\n",
    "    p1 = Producer({'bootstrap.servers': 'localhost', 'broker.address.family': 'v4'})\n",
    "\n",
    "    print('Trying port 9092 on localhost')\n",
    "    p2 = Producer({'bootstrap.servers': 'localhost:9092', 'broker.address.family': 'v4'})\n",
    "\n",
    "    print('Trying port 29092 on localhost')\n",
    "    p3 = Producer({'bootstrap.servers': 'localhost:29092', 'broker.address.family': 'v4'})\n",
    "\n",
    "    print('Trying to connect to broker (container name)')\n",
    "    p4 = Producer({'bootstrap.servers': 'broker', 'broker.address.family': 'v4'})\n",
    "    \n",
    "    for data in simple_messages:\n",
    "        \n",
    "        record_key = str(uuid.uuid4())\n",
    "        print('Sending message with:'\n",
    "              f'record_key: {record_key}'\n",
    "              f'data: {data}')\n",
    "        record_value = json.dumps({'data': data})\n",
    "         \n",
    "        print(f'Producer {p}'\n",
    "              f'producd to topic {topic}')\n",
    "        p.produce(topic, key=record_key, value=record_value, on_delivery=delivery_report)\n",
    "       \n",
    "        p.poll(0)\n",
    "\n",
    "    p.flush()\n",
    "    print('we\\'ve sent {count} messages to {brokers}'.format(count=len(simple_messages), brokers=bootstrap_servers))"
   ]
  },
  {
   "cell_type": "code",
   "execution_count": 7,
   "metadata": {
    "scrolled": true
   },
   "outputs": [
    {
     "name": "stdout",
     "output_type": "stream",
     "text": [
      "Trying plain localhost connect\n",
      "Trying port 9092 on localhost\n",
      "Trying port 29092 on localhost\n",
      "Trying to connect to broker (container name)\n",
      "Sending message with:record_key: 83734b56-078f-42dd-a0ae-25d40bd0555bdata: I love this pony\n",
      "Producer <cimpl.Producer object at 0x10ce53370>producd to topic test\n",
      "Sending message with:record_key: 8f30df0d-c4a6-47a9-a229-c4ccc6cdd4addata: This restaurant is great\n",
      "Producer <cimpl.Producer object at 0x10ce53370>producd to topic test\n",
      "Sending message with:record_key: 425fce74-23ad-4195-9a1c-a6bcd2f8b7acdata: The weather is bad today\n",
      "Producer <cimpl.Producer object at 0x10ce53370>producd to topic test\n",
      "Sending message with:record_key: 386bdaf8-3edd-444d-b248-c3a785dbb7e5data: I will go to the beach this weekend\n",
      "Producer <cimpl.Producer object at 0x10ce53370>producd to topic test\n",
      "Sending message with:record_key: 219d4f45-f993-4766-a380-6338ad805d4adata: She likes to swim\n",
      "Producer <cimpl.Producer object at 0x10ce53370>producd to topic test\n",
      "Sending message with:record_key: 9d0cb069-6467-4a4b-9790-8e44b218689cdata: Apple is a great company\n",
      "Producer <cimpl.Producer object at 0x10ce53370>producd to topic test\n",
      "Message delivery failed: KafkaError{code=_MSG_TIMED_OUT,val=-192,str=\"Local: Message timed out\"}\n",
      "Message delivery failed: KafkaError{code=_MSG_TIMED_OUT,val=-192,str=\"Local: Message timed out\"}\n",
      "Message delivery failed: KafkaError{code=_MSG_TIMED_OUT,val=-192,str=\"Local: Message timed out\"}\n",
      "Message delivery failed: KafkaError{code=_MSG_TIMED_OUT,val=-192,str=\"Local: Message timed out\"}\n",
      "Message delivery failed: KafkaError{code=_MSG_TIMED_OUT,val=-192,str=\"Local: Message timed out\"}\n",
      "Message delivery failed: KafkaError{code=_MSG_TIMED_OUT,val=-192,str=\"Local: Message timed out\"}\n",
      "we've sent 6 messages to kafka:9092\n"
     ]
    }
   ],
   "source": [
    "confluent_kafka_producer()"
   ]
  },
  {
   "cell_type": "code",
   "execution_count": null,
   "metadata": {},
   "outputs": [],
   "source": []
  }
 ],
 "metadata": {
  "kernelspec": {
   "display_name": "kakafka-spark-docker",
   "language": "python",
   "name": "kakafka-spark-docker"
  },
  "language_info": {
   "codemirror_mode": {
    "name": "ipython",
    "version": 3
   },
   "file_extension": ".py",
   "mimetype": "text/x-python",
   "name": "python",
   "nbconvert_exporter": "python",
   "pygments_lexer": "ipython3",
   "version": "3.7.6"
  }
 },
 "nbformat": 4,
 "nbformat_minor": 4
}
